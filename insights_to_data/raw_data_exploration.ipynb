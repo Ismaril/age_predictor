{
 "cells": [
  {
   "cell_type": "code",
   "execution_count": 92,
   "id": "9208e311",
   "metadata": {},
   "outputs": [],
   "source": [
    "# IN THIS NOTEBOOK I USED actor_data.txt TO EXTRACT DESIRED AGE GROUPS.\n",
    "# ACTOR DATA CONTAINS ALL CELEBRITIES ON imdb.com, THEIR AGE, OCCUPATION...\n",
    "\n",
    "# THERE WAS A LOT OF IMBALANCES OF FEATURES WHEN IT COMES TO SPECIFYING AGE GROUPS, THEREFORE\n",
    "#    THIS FILE WAS NOT AUTOMATED TO OUTPUT DISTINCT AGE GROUPS AUTOMATICALLY. MANUAL DATA EXPLORATION\n",
    "#    AND EXTRACTION WAS NECESSARY TO GET SOME COMPROMISE BETWEEN NUMBER OF FEATURES AND AGE GROUPS."
   ]
  },
  {
   "cell_type": "code",
   "execution_count": 93,
   "id": "4dd7d3dd",
   "metadata": {},
   "outputs": [],
   "source": [
    "import pandas as pd\n",
    "import numpy as np"
   ]
  },
  {
   "cell_type": "code",
   "execution_count": 94,
   "id": "b0e4006c",
   "metadata": {},
   "outputs": [],
   "source": [
    "source = \"C:/Users/lazni/PycharmProjects/Age_Predictor/source_data/actor_data.txt\"\n",
    "data = pd.read_table(source, sep='\\t')"
   ]
  },
  {
   "cell_type": "code",
   "execution_count": 95,
   "id": "a14ff43f",
   "metadata": {},
   "outputs": [],
   "source": [
    "df = pd.DataFrame(data)"
   ]
  },
  {
   "cell_type": "code",
   "execution_count": 96,
   "id": "fa5e0d1e",
   "metadata": {},
   "outputs": [
    {
     "name": "stdout",
     "output_type": "stream",
     "text": [
      "<class 'pandas.core.frame.DataFrame'>\n",
      "RangeIndex: 11782665 entries, 0 to 11782664\n",
      "Data columns (total 6 columns):\n",
      " #   Column             Dtype \n",
      "---  ------             ----- \n",
      " 0   nconst             object\n",
      " 1   primaryName        object\n",
      " 2   birthYear          object\n",
      " 3   deathYear          object\n",
      " 4   primaryProfession  object\n",
      " 5   knownForTitles     object\n",
      "dtypes: object(6)\n",
      "memory usage: 539.4+ MB\n"
     ]
    }
   ],
   "source": [
    "df.info()"
   ]
  },
  {
   "cell_type": "code",
   "execution_count": 97,
   "id": "f11275d6",
   "metadata": {},
   "outputs": [
    {
     "data": {
      "text/html": [
       "<div>\n",
       "<style scoped>\n",
       "    .dataframe tbody tr th:only-of-type {\n",
       "        vertical-align: middle;\n",
       "    }\n",
       "\n",
       "    .dataframe tbody tr th {\n",
       "        vertical-align: top;\n",
       "    }\n",
       "\n",
       "    .dataframe thead th {\n",
       "        text-align: right;\n",
       "    }\n",
       "</style>\n",
       "<table border=\"1\" class=\"dataframe\">\n",
       "  <thead>\n",
       "    <tr style=\"text-align: right;\">\n",
       "      <th></th>\n",
       "      <th>nconst</th>\n",
       "      <th>primaryName</th>\n",
       "      <th>birthYear</th>\n",
       "      <th>deathYear</th>\n",
       "      <th>primaryProfession</th>\n",
       "      <th>knownForTitles</th>\n",
       "    </tr>\n",
       "  </thead>\n",
       "  <tbody>\n",
       "    <tr>\n",
       "      <th>0</th>\n",
       "      <td>nm0000001</td>\n",
       "      <td>Fred Astaire</td>\n",
       "      <td>1899</td>\n",
       "      <td>1987</td>\n",
       "      <td>soundtrack,actor,miscellaneous</td>\n",
       "      <td>tt0053137,tt0072308,tt0050419,tt0031983</td>\n",
       "    </tr>\n",
       "    <tr>\n",
       "      <th>1</th>\n",
       "      <td>nm0000002</td>\n",
       "      <td>Lauren Bacall</td>\n",
       "      <td>1924</td>\n",
       "      <td>2014</td>\n",
       "      <td>actress,soundtrack</td>\n",
       "      <td>tt0071877,tt0038355,tt0037382,tt0117057</td>\n",
       "    </tr>\n",
       "    <tr>\n",
       "      <th>2</th>\n",
       "      <td>nm0000003</td>\n",
       "      <td>Brigitte Bardot</td>\n",
       "      <td>1934</td>\n",
       "      <td>\\N</td>\n",
       "      <td>actress,soundtrack,music_department</td>\n",
       "      <td>tt0056404,tt0054452,tt0049189,tt0057345</td>\n",
       "    </tr>\n",
       "    <tr>\n",
       "      <th>3</th>\n",
       "      <td>nm0000004</td>\n",
       "      <td>John Belushi</td>\n",
       "      <td>1949</td>\n",
       "      <td>1982</td>\n",
       "      <td>actor,soundtrack,writer</td>\n",
       "      <td>tt0078723,tt0077975,tt0080455,tt0072562</td>\n",
       "    </tr>\n",
       "    <tr>\n",
       "      <th>4</th>\n",
       "      <td>nm0000005</td>\n",
       "      <td>Ingmar Bergman</td>\n",
       "      <td>1918</td>\n",
       "      <td>2007</td>\n",
       "      <td>writer,director,actor</td>\n",
       "      <td>tt0083922,tt0050976,tt0050986,tt0060827</td>\n",
       "    </tr>\n",
       "    <tr>\n",
       "      <th>...</th>\n",
       "      <td>...</td>\n",
       "      <td>...</td>\n",
       "      <td>...</td>\n",
       "      <td>...</td>\n",
       "      <td>...</td>\n",
       "      <td>...</td>\n",
       "    </tr>\n",
       "    <tr>\n",
       "      <th>11782660</th>\n",
       "      <td>nm9993714</td>\n",
       "      <td>Romeo del Rosario</td>\n",
       "      <td>\\N</td>\n",
       "      <td>\\N</td>\n",
       "      <td>animation_department,art_department</td>\n",
       "      <td>tt14069590,tt2455546,tt11657662</td>\n",
       "    </tr>\n",
       "    <tr>\n",
       "      <th>11782661</th>\n",
       "      <td>nm9993716</td>\n",
       "      <td>Essias Loberg</td>\n",
       "      <td>\\N</td>\n",
       "      <td>\\N</td>\n",
       "      <td>NaN</td>\n",
       "      <td>\\N</td>\n",
       "    </tr>\n",
       "    <tr>\n",
       "      <th>11782662</th>\n",
       "      <td>nm9993717</td>\n",
       "      <td>Harikrishnan Rajan</td>\n",
       "      <td>\\N</td>\n",
       "      <td>\\N</td>\n",
       "      <td>cinematographer</td>\n",
       "      <td>tt8736744</td>\n",
       "    </tr>\n",
       "    <tr>\n",
       "      <th>11782663</th>\n",
       "      <td>nm9993718</td>\n",
       "      <td>Aayush Nair</td>\n",
       "      <td>\\N</td>\n",
       "      <td>\\N</td>\n",
       "      <td>cinematographer</td>\n",
       "      <td>\\N</td>\n",
       "    </tr>\n",
       "    <tr>\n",
       "      <th>11782664</th>\n",
       "      <td>nm9993719</td>\n",
       "      <td>Andre Hill</td>\n",
       "      <td>\\N</td>\n",
       "      <td>\\N</td>\n",
       "      <td>NaN</td>\n",
       "      <td>\\N</td>\n",
       "    </tr>\n",
       "  </tbody>\n",
       "</table>\n",
       "<p>11782665 rows × 6 columns</p>\n",
       "</div>"
      ],
      "text/plain": [
       "             nconst         primaryName birthYear deathYear  \\\n",
       "0         nm0000001        Fred Astaire      1899      1987   \n",
       "1         nm0000002       Lauren Bacall      1924      2014   \n",
       "2         nm0000003     Brigitte Bardot      1934        \\N   \n",
       "3         nm0000004        John Belushi      1949      1982   \n",
       "4         nm0000005      Ingmar Bergman      1918      2007   \n",
       "...             ...                 ...       ...       ...   \n",
       "11782660  nm9993714   Romeo del Rosario        \\N        \\N   \n",
       "11782661  nm9993716       Essias Loberg        \\N        \\N   \n",
       "11782662  nm9993717  Harikrishnan Rajan        \\N        \\N   \n",
       "11782663  nm9993718         Aayush Nair        \\N        \\N   \n",
       "11782664  nm9993719          Andre Hill        \\N        \\N   \n",
       "\n",
       "                            primaryProfession  \\\n",
       "0              soundtrack,actor,miscellaneous   \n",
       "1                          actress,soundtrack   \n",
       "2         actress,soundtrack,music_department   \n",
       "3                     actor,soundtrack,writer   \n",
       "4                       writer,director,actor   \n",
       "...                                       ...   \n",
       "11782660  animation_department,art_department   \n",
       "11782661                                  NaN   \n",
       "11782662                      cinematographer   \n",
       "11782663                      cinematographer   \n",
       "11782664                                  NaN   \n",
       "\n",
       "                                   knownForTitles  \n",
       "0         tt0053137,tt0072308,tt0050419,tt0031983  \n",
       "1         tt0071877,tt0038355,tt0037382,tt0117057  \n",
       "2         tt0056404,tt0054452,tt0049189,tt0057345  \n",
       "3         tt0078723,tt0077975,tt0080455,tt0072562  \n",
       "4         tt0083922,tt0050976,tt0050986,tt0060827  \n",
       "...                                           ...  \n",
       "11782660          tt14069590,tt2455546,tt11657662  \n",
       "11782661                                       \\N  \n",
       "11782662                                tt8736744  \n",
       "11782663                                       \\N  \n",
       "11782664                                       \\N  \n",
       "\n",
       "[11782665 rows x 6 columns]"
      ]
     },
     "execution_count": 97,
     "metadata": {},
     "output_type": "execute_result"
    }
   ],
   "source": [
    "df"
   ]
  },
  {
   "cell_type": "code",
   "execution_count": 98,
   "id": "123d03a5",
   "metadata": {},
   "outputs": [
    {
     "data": {
      "text/plain": [
       "str"
      ]
     },
     "execution_count": 98,
     "metadata": {},
     "output_type": "execute_result"
    }
   ],
   "source": [
    "type(df.iloc[11782660][0])"
   ]
  },
  {
   "cell_type": "code",
   "execution_count": 99,
   "id": "53cae1b0",
   "metadata": {},
   "outputs": [],
   "source": [
    "# drop rows with filter (similar like filtering with iloc/loc etc...)\n",
    "filter_ = df[\"birthYear\"] == '\\\\N'\n",
    "df.drop(df[filter_].index, inplace=True)\n",
    "\n",
    "df.drop(columns=[\"primaryProfession\", \"knownForTitles\"], inplace=True)"
   ]
  },
  {
   "cell_type": "code",
   "execution_count": 100,
   "id": "c0071568",
   "metadata": {},
   "outputs": [],
   "source": [
    "df[\"birthYear\"] = df[\"birthYear\"].astype(int)"
   ]
  },
  {
   "cell_type": "code",
   "execution_count": 101,
   "id": "2bbf7d87",
   "metadata": {},
   "outputs": [],
   "source": [
    "# filter_ = df[\"birthYear\"] >= 2004\n",
    "# df.drop(df[filter_].index, inplace=True)\n",
    "\n",
    "# filter_ = df[\"birthYear\"] < 1940\n",
    "# df.drop(df[filter_].index, inplace=True)\n",
    "\n",
    "df = df[0:400_000]"
   ]
  },
  {
   "cell_type": "code",
   "execution_count": 102,
   "id": "0ef05a04",
   "metadata": {},
   "outputs": [],
   "source": [
    "# df.set_index(\"nconst\", inplace=True)"
   ]
  },
  {
   "cell_type": "code",
   "execution_count": 103,
   "id": "0c4929f8",
   "metadata": {},
   "outputs": [
    {
     "name": "stderr",
     "output_type": "stream",
     "text": [
      "C:\\Users\\lazni\\AppData\\Local\\Temp\\ipykernel_8672\\1307274600.py:1: SettingWithCopyWarning: \n",
      "A value is trying to be set on a copy of a slice from a DataFrame.\n",
      "Try using .loc[row_indexer,col_indexer] = value instead\n",
      "\n",
      "See the caveats in the documentation: https://pandas.pydata.org/pandas-docs/stable/user_guide/indexing.html#returning-a-view-versus-a-copy\n",
      "  df[\"deathYear\"] = np.where(df[\"deathYear\"] == \"\\\\N\", 2022, df[\"deathYear\"])\n",
      "C:\\Users\\lazni\\AppData\\Local\\Temp\\ipykernel_8672\\1307274600.py:2: SettingWithCopyWarning: \n",
      "A value is trying to be set on a copy of a slice from a DataFrame.\n",
      "Try using .loc[row_indexer,col_indexer] = value instead\n",
      "\n",
      "See the caveats in the documentation: https://pandas.pydata.org/pandas-docs/stable/user_guide/indexing.html#returning-a-view-versus-a-copy\n",
      "  df[\"deathYear\"] = df[\"deathYear\"].astype(int)\n"
     ]
    }
   ],
   "source": [
    "# set nan values to year 2022 if they are not dead yet\n",
    "df[\"deathYear\"] = np.where(df[\"deathYear\"] == \"\\\\N\", 2022, df[\"deathYear\"])\n",
    "df[\"deathYear\"] = df[\"deathYear\"].astype(int)"
   ]
  },
  {
   "cell_type": "code",
   "execution_count": 104,
   "id": "e77634e5",
   "metadata": {},
   "outputs": [
    {
     "name": "stderr",
     "output_type": "stream",
     "text": [
      "C:\\Users\\lazni\\AppData\\Local\\Temp\\ipykernel_8672\\2942524767.py:1: SettingWithCopyWarning: \n",
      "A value is trying to be set on a copy of a slice from a DataFrame.\n",
      "Try using .loc[row_indexer,col_indexer] = value instead\n",
      "\n",
      "See the caveats in the documentation: https://pandas.pydata.org/pandas-docs/stable/user_guide/indexing.html#returning-a-view-versus-a-copy\n",
      "  df[\"currentAge\"] = df[\"deathYear\"] - df[\"birthYear\"]\n",
      "C:\\Users\\lazni\\AppData\\Local\\Programs\\Python\\Python310\\lib\\site-packages\\pandas\\core\\frame.py:4906: SettingWithCopyWarning: \n",
      "A value is trying to be set on a copy of a slice from a DataFrame\n",
      "\n",
      "See the caveats in the documentation: https://pandas.pydata.org/pandas-docs/stable/user_guide/indexing.html#returning-a-view-versus-a-copy\n",
      "  return super().drop(\n"
     ]
    }
   ],
   "source": [
    "# filter desired age groups\n",
    "\n",
    "df[\"currentAge\"] = df[\"deathYear\"] - df[\"birthYear\"]\n",
    "filter_ = df[\"currentAge\"] < 20 \n",
    "df.drop(df[filter_].index, inplace=True)\n",
    "\n",
    "# filter_ = df[\"currentAge\"] > 27 \n",
    "# df.drop(df[filter_].index, inplace=True)"
   ]
  },
  {
   "cell_type": "code",
   "execution_count": 105,
   "id": "b4831bcd",
   "metadata": {},
   "outputs": [
    {
     "name": "stdout",
     "output_type": "stream",
     "text": [
      "<class 'pandas.core.frame.DataFrame'>\n",
      "Int64Index: 397949 entries, 0 to 5503799\n",
      "Data columns (total 5 columns):\n",
      " #   Column       Non-Null Count   Dtype \n",
      "---  ------       --------------   ----- \n",
      " 0   nconst       397949 non-null  object\n",
      " 1   primaryName  397949 non-null  object\n",
      " 2   birthYear    397949 non-null  int32 \n",
      " 3   deathYear    397949 non-null  int32 \n",
      " 4   currentAge   397949 non-null  int32 \n",
      "dtypes: int32(3), object(2)\n",
      "memory usage: 13.7+ MB\n"
     ]
    }
   ],
   "source": [
    "df.info()"
   ]
  },
  {
   "cell_type": "code",
   "execution_count": 106,
   "id": "12ee191d",
   "metadata": {},
   "outputs": [
    {
     "data": {
      "text/html": [
       "<div>\n",
       "<style scoped>\n",
       "    .dataframe tbody tr th:only-of-type {\n",
       "        vertical-align: middle;\n",
       "    }\n",
       "\n",
       "    .dataframe tbody tr th {\n",
       "        vertical-align: top;\n",
       "    }\n",
       "\n",
       "    .dataframe thead th {\n",
       "        text-align: right;\n",
       "    }\n",
       "</style>\n",
       "<table border=\"1\" class=\"dataframe\">\n",
       "  <thead>\n",
       "    <tr style=\"text-align: right;\">\n",
       "      <th></th>\n",
       "      <th>nconst</th>\n",
       "      <th>primaryName</th>\n",
       "      <th>birthYear</th>\n",
       "      <th>deathYear</th>\n",
       "      <th>currentAge</th>\n",
       "    </tr>\n",
       "  </thead>\n",
       "  <tbody>\n",
       "    <tr>\n",
       "      <th>0</th>\n",
       "      <td>nm0000001</td>\n",
       "      <td>Fred Astaire</td>\n",
       "      <td>1899</td>\n",
       "      <td>1987</td>\n",
       "      <td>88</td>\n",
       "    </tr>\n",
       "    <tr>\n",
       "      <th>1</th>\n",
       "      <td>nm0000002</td>\n",
       "      <td>Lauren Bacall</td>\n",
       "      <td>1924</td>\n",
       "      <td>2014</td>\n",
       "      <td>90</td>\n",
       "    </tr>\n",
       "    <tr>\n",
       "      <th>2</th>\n",
       "      <td>nm0000003</td>\n",
       "      <td>Brigitte Bardot</td>\n",
       "      <td>1934</td>\n",
       "      <td>2022</td>\n",
       "      <td>88</td>\n",
       "    </tr>\n",
       "    <tr>\n",
       "      <th>3</th>\n",
       "      <td>nm0000004</td>\n",
       "      <td>John Belushi</td>\n",
       "      <td>1949</td>\n",
       "      <td>1982</td>\n",
       "      <td>33</td>\n",
       "    </tr>\n",
       "    <tr>\n",
       "      <th>4</th>\n",
       "      <td>nm0000005</td>\n",
       "      <td>Ingmar Bergman</td>\n",
       "      <td>1918</td>\n",
       "      <td>2007</td>\n",
       "      <td>89</td>\n",
       "    </tr>\n",
       "  </tbody>\n",
       "</table>\n",
       "</div>"
      ],
      "text/plain": [
       "      nconst      primaryName  birthYear  deathYear  currentAge\n",
       "0  nm0000001     Fred Astaire       1899       1987          88\n",
       "1  nm0000002    Lauren Bacall       1924       2014          90\n",
       "2  nm0000003  Brigitte Bardot       1934       2022          88\n",
       "3  nm0000004     John Belushi       1949       1982          33\n",
       "4  nm0000005   Ingmar Bergman       1918       2007          89"
      ]
     },
     "execution_count": 106,
     "metadata": {},
     "output_type": "execute_result"
    }
   ],
   "source": [
    "df.head()"
   ]
  },
  {
   "cell_type": "code",
   "execution_count": 107,
   "id": "f8a516cf",
   "metadata": {},
   "outputs": [
    {
     "data": {
      "text/plain": [
       "count    397949.000000\n",
       "mean         63.345461\n",
       "std          19.074489\n",
       "min          20.000000\n",
       "25%          49.000000\n",
       "50%          63.000000\n",
       "75%          77.000000\n",
       "max        2009.000000\n",
       "Name: currentAge, dtype: float64"
      ]
     },
     "execution_count": 107,
     "metadata": {},
     "output_type": "execute_result"
    }
   ],
   "source": [
    "df[\"currentAge\"].describe()"
   ]
  },
  {
   "cell_type": "code",
   "execution_count": 108,
   "id": "431de57d",
   "metadata": {},
   "outputs": [
    {
     "data": {
      "text/html": [
       "<div>\n",
       "<style scoped>\n",
       "    .dataframe tbody tr th:only-of-type {\n",
       "        vertical-align: middle;\n",
       "    }\n",
       "\n",
       "    .dataframe tbody tr th {\n",
       "        vertical-align: top;\n",
       "    }\n",
       "\n",
       "    .dataframe thead th {\n",
       "        text-align: right;\n",
       "    }\n",
       "</style>\n",
       "<table border=\"1\" class=\"dataframe\">\n",
       "  <thead>\n",
       "    <tr style=\"text-align: right;\">\n",
       "      <th></th>\n",
       "      <th>nconst</th>\n",
       "      <th>primaryName</th>\n",
       "      <th>birthYear</th>\n",
       "      <th>deathYear</th>\n",
       "      <th>currentAge</th>\n",
       "    </tr>\n",
       "  </thead>\n",
       "  <tbody>\n",
       "    <tr>\n",
       "      <th>1662674</th>\n",
       "      <td>nm10788250</td>\n",
       "      <td>Sean Holden</td>\n",
       "      <td>2002</td>\n",
       "      <td>2022</td>\n",
       "      <td>20</td>\n",
       "    </tr>\n",
       "    <tr>\n",
       "      <th>3471040</th>\n",
       "      <td>nm12661613</td>\n",
       "      <td>Juan Acedo</td>\n",
       "      <td>2002</td>\n",
       "      <td>2022</td>\n",
       "      <td>20</td>\n",
       "    </tr>\n",
       "    <tr>\n",
       "      <th>3468729</th>\n",
       "      <td>nm12659238</td>\n",
       "      <td>Kamran Singariya</td>\n",
       "      <td>2002</td>\n",
       "      <td>2022</td>\n",
       "      <td>20</td>\n",
       "    </tr>\n",
       "    <tr>\n",
       "      <th>4296181</th>\n",
       "      <td>nm13541368</td>\n",
       "      <td>Blondness</td>\n",
       "      <td>2002</td>\n",
       "      <td>2022</td>\n",
       "      <td>20</td>\n",
       "    </tr>\n",
       "    <tr>\n",
       "      <th>4475725</th>\n",
       "      <td>nm13731233</td>\n",
       "      <td>Fardu Hussain</td>\n",
       "      <td>2002</td>\n",
       "      <td>2022</td>\n",
       "      <td>20</td>\n",
       "    </tr>\n",
       "  </tbody>\n",
       "</table>\n",
       "</div>"
      ],
      "text/plain": [
       "             nconst       primaryName  birthYear  deathYear  currentAge\n",
       "1662674  nm10788250       Sean Holden       2002       2022          20\n",
       "3471040  nm12661613        Juan Acedo       2002       2022          20\n",
       "3468729  nm12659238  Kamran Singariya       2002       2022          20\n",
       "4296181  nm13541368         Blondness       2002       2022          20\n",
       "4475725  nm13731233     Fardu Hussain       2002       2022          20"
      ]
     },
     "execution_count": 108,
     "metadata": {},
     "output_type": "execute_result"
    }
   ],
   "source": [
    "df.sort_values(by=\"currentAge\", ascending=True).head()"
   ]
  },
  {
   "cell_type": "code",
   "execution_count": 109,
   "id": "23770259",
   "metadata": {},
   "outputs": [
    {
     "name": "stdout",
     "output_type": "stream",
     "text": [
      "nm0000001 88\n",
      "nm0000002 90\n"
     ]
    }
   ],
   "source": [
    "# visualise ID of the person and their age\n",
    "print(df.iloc[0][0], df.iloc[0][-1])\n",
    "print(df.iloc[1][0], df.iloc[1][-1])"
   ]
  },
  {
   "cell_type": "code",
   "execution_count": 110,
   "id": "9807bb23",
   "metadata": {},
   "outputs": [
    {
     "data": {
      "image/png": "[encoded data removed]",
      "text/plain": [
       "<Figure size 1152x648 with 1 Axes>"
      ]
     },
     "metadata": {},
     "output_type": "display_data"
    }
   ],
   "source": [
    "import matplotlib.pyplot as plt\n",
    "plt.style.use(\"dark_background\")\n",
    "plt.figure(figsize=(16,9))\n",
    "plt.hist(df[\"currentAge\"], color=\"red\", bins=[20, 28, 36, 45, 56, 66, 82])\n",
    "plt.yscale(\"log\")\n",
    "plt.xlim(20, 90)\n",
    "plt.show()"
   ]
  },
  {
   "cell_type": "code",
   "execution_count": 111,
   "id": "4698905f",
   "metadata": {},
   "outputs": [],
   "source": [
    "# save to csv\n",
    "# df.to_csv(\"C:/Users/lazni/PycharmProjects/Age_Predictor/source_data/source_data_0.csv\")"
   ]
  }
 ],
 "metadata": {
  "kernelspec": {
   "display_name": "Python 3 (ipykernel)",
   "language": "python",
   "name": "python3"
  },
  "language_info": {
   "codemirror_mode": {
    "name": "ipython",
    "version": 3
   },
   "file_extension": ".py",
   "mimetype": "text/x-python",
   "name": "python",
   "nbconvert_exporter": "python",
   "pygments_lexer": "ipython3",
   "version": "3.10.0"
  }
 },
 "nbformat": 4,
 "nbformat_minor": 5
}
